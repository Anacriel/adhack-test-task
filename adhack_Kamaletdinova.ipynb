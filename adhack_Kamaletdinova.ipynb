{
 "cells": [
  {
   "cell_type": "markdown",
   "metadata": {},
   "source": [
    "# JDA Test Task  \n",
    "### Камалетдинова Юлия  \n",
    "### anacriel@protonmail.com\n",
    "--------------------------"
   ]
  },
  {
   "cell_type": "markdown",
   "metadata": {},
   "source": [
    "## Задание 1"
   ]
  },
  {
   "cell_type": "markdown",
   "metadata": {},
   "source": [
    "#### 1. Запрос для получения среднего по актуальным ценам"
   ]
  },
  {
   "cell_type": "markdown",
   "metadata": {},
   "source": [
    "Напишите запрос, возвращающий строки с актуальными ценами (с наибольшей датой - `date_start`) для каждого товара (`product`).  \n",
    "Посчитайте среднюю цену и запишите ответ - число в файл `res1.txt`"
   ]
  },
  {
   "cell_type": "markdown",
   "metadata": {},
   "source": [
    "``` sql\n",
    "SELECT avg(a.price)  \n",
    "FROM prices a  \n",
    "INNER JOIN (  \n",
    "    SELECT price, MAX(date_start) date_start  \n",
    "    FROM prices  \n",
    "    GROUP BY product  \n",
    ") b ON a.price = b.price and a.date_start = b.date_start;\n",
    "```"
   ]
  },
  {
   "cell_type": "markdown",
   "metadata": {},
   "source": [
    "#### 2. Стоимости и соответствующие даты для продукта `product`"
   ]
  },
  {
   "cell_type": "markdown",
   "metadata": {},
   "source": [
    "Напишите функцию на любом языке программирования (предпочтительно **Python**) принимающую название продукта  \n",
    "(поле `product`) и возвращающую tuple вида (`[date_start1, date_start2,... ],[price1, price2,...]`) из таблицы  \n",
    "`prices`, где `date_start(n)` –– это даты, отсортированные по возрастанию, а `price(n)` - соответствующая  дате цена на продукт.  \n",
    "При каждом вызове функция должна обращаться к БД, выбирая необходимые данные. Формат дат особого значения не имеет"
   ]
  },
  {
   "cell_type": "code",
   "execution_count": 1,
   "metadata": {},
   "outputs": [],
   "source": [
    "import os\n",
    "import sqlite3\n",
    "\n",
    "from contextlib import closing\n",
    "from typing import Tuple, List"
   ]
  },
  {
   "cell_type": "code",
   "execution_count": 2,
   "metadata": {},
   "outputs": [],
   "source": [
    "DB_FILE = 'DB.db'\n",
    "DEFAULT_PATH = os.path.join(os.getcwd(), DB_FILE)"
   ]
  },
  {
   "cell_type": "code",
   "execution_count": 3,
   "metadata": {},
   "outputs": [],
   "source": [
    "def db_connect(db_path: str = DEFAULT_PATH) -> sqlite3.Connection:\n",
    "    \"\"\"\n",
    "    Create and return connection to DB.\n",
    "    \n",
    "    Args:\n",
    "        db_path: path to the database file\n",
    "    Returns:\n",
    "        sqlite3.Connection to the database\n",
    "    \"\"\"\n",
    "\n",
    "    conn = sqlite3.connect(db_path)\n",
    "    return conn"
   ]
  },
  {
   "cell_type": "code",
   "execution_count": 4,
   "metadata": {},
   "outputs": [],
   "source": [
    "def get_product_data(product: str) -> Tuple[List[str], List[float]]:\n",
    "    \"\"\"\n",
    "    Connect to DB, get price history for the \n",
    "    product from `prices` table.\n",
    "\n",
    "    Args:\n",
    "        product: the product name.\n",
    "    Returns:\n",
    "        tuple of dates and prices corresponding to\n",
    "        product, ordered by ascending date:\n",
    "        ([date_start1, date_start2, ...], [price1, price2, ...])\n",
    "    \"\"\"\n",
    "\n",
    "    conn = db_connect()\n",
    "    with closing(conn.cursor()) as cur:\n",
    "        cur.execute(\n",
    "            \"SELECT date_start, price FROM prices WHERE product = ?\"\n",
    "            \"ORDER BY date_start ASC\",\n",
    "            (product,),\n",
    "        )\n",
    "\n",
    "        rows = cur.fetchall()\n",
    "        dates_prices = tuple(map(list, zip(*rows)))\n",
    "\n",
    "        return dates_prices"
   ]
  },
  {
   "cell_type": "code",
   "execution_count": 5,
   "metadata": {},
   "outputs": [
    {
     "data": {
      "text/plain": [
       "(['1970-01-01',\n",
       "  '2010-01-21',\n",
       "  '2010-08-17',\n",
       "  '2010-11-02',\n",
       "  '2012-08-27',\n",
       "  '2012-12-06',\n",
       "  '2013-01-11',\n",
       "  '2013-05-02',\n",
       "  '2013-05-08',\n",
       "  '2013-11-01',\n",
       "  '2014-08-30',\n",
       "  '2015-12-29',\n",
       "  '2016-05-04',\n",
       "  '2016-08-14',\n",
       "  '2016-09-28',\n",
       "  '2017-04-01'],\n",
       " [297.79,\n",
       "  164.68,\n",
       "  558.58,\n",
       "  127.08,\n",
       "  352.13,\n",
       "  0.35,\n",
       "  100.61,\n",
       "  120.5,\n",
       "  260.19,\n",
       "  1747.84,\n",
       "  59.84,\n",
       "  118.27,\n",
       "  550.62,\n",
       "  339.35,\n",
       "  210.19,\n",
       "  111.23])"
      ]
     },
     "execution_count": 5,
     "metadata": {},
     "output_type": "execute_result"
    }
   ],
   "source": [
    "# Example usage\n",
    "get_product_data('A')"
   ]
  },
  {
   "cell_type": "markdown",
   "metadata": {},
   "source": [
    "## Задание 2"
   ]
  },
  {
   "cell_type": "markdown",
   "metadata": {},
   "source": [
    "#### 1. Запрос для создания таблицы `revenue`"
   ]
  },
  {
   "cell_type": "markdown",
   "metadata": {},
   "source": [
    "Напишите запрос, результатом которого станет создание таблицы `revenue`, где `revenue` вычисляется по формуле: \n",
    "**revenue = sales.amount * prices.price**. Естественно, `price` из таблицы `prices` должен соответствовать `date` из таблицы `sales`.  \n",
    "Следует учитывать, что таблица `sales` содержит большое кол-во строк.\n",
    "Выполните запрос и создайте таблицу в revenue `\"DB.db\"`.  \n",
    "\n",
    "Запишите величину выборочного стандартного отклонения `revenue` для продукта `\"B\"` в файл `res2.txt`."
   ]
  },
  {
   "cell_type": "markdown",
   "metadata": {},
   "source": [
    "``` sql\n",
    "CREATE TABLE revenue\n",
    "    AS SELECT s.*,\n",
    "            (SELECT p.price\n",
    "             FROM prices p\n",
    "             WHERE p.date_start <= s.date AND p.product = s.product\n",
    "             ORDER BY p.date_start DESC\n",
    "             LIMIT 1\n",
    "            ) * s.amount AS revenue\n",
    "        FROM sales s;\n",
    "```"
   ]
  },
  {
   "cell_type": "markdown",
   "metadata": {},
   "source": [
    "#### 2. Функция для расчета выборочного стандартного отклонения `revenue`"
   ]
  },
  {
   "cell_type": "code",
   "execution_count": 6,
   "metadata": {},
   "outputs": [],
   "source": [
    "import numpy as np"
   ]
  },
  {
   "cell_type": "code",
   "execution_count": 7,
   "metadata": {},
   "outputs": [],
   "source": [
    "def get_ssd(prod_name: str) -> np.array:\n",
    "    \"\"\"\n",
    "    Connect to DB, request revenue by product \n",
    "    and count its sample standard deviation.\n",
    "\n",
    "    Args:\n",
    "        prod_name: the product name.\n",
    "    Returns:\n",
    "        sample standard deviation\n",
    "    \"\"\"\n",
    "    \n",
    "    conn = db_connect()\n",
    "    with closing(conn.cursor()) as cur:\n",
    "        cur.execute(\"SELECT revenue FROM revenue WHERE product = ?;\", (prod_name,))\n",
    "\n",
    "        rows = cur.fetchall()\n",
    "        rev = np.asarray(list(zip(*rows))[0])\n",
    "\n",
    "        ssd = np.std(rev, ddof=1)\n",
    "\n",
    "        return ssd"
   ]
  },
  {
   "cell_type": "code",
   "execution_count": 8,
   "metadata": {},
   "outputs": [
    {
     "data": {
      "text/plain": [
       "33465.93838814805"
      ]
     },
     "execution_count": 8,
     "metadata": {},
     "output_type": "execute_result"
    }
   ],
   "source": [
    "# Example usage\n",
    "get_ssd('B')"
   ]
  },
  {
   "cell_type": "markdown",
   "metadata": {},
   "source": [
    "## Задание 3"
   ]
  },
  {
   "cell_type": "markdown",
   "metadata": {},
   "source": [
    "Напишите функцию, которая принимает название товара `product` и две даты: `date_start`,\n",
    "`date_end`, тренирует  \n",
    "(находит c МНК коэффициенты **k**, **b**) линейную модель вида **y = kx+b** и возвращает коэффициенты, **k** и **b**. \n",
    "В модели **x** - это номер дня  \n",
    "от начала заданного периода (0, 1, 2, 3...), а **y** - кол-во проданных единиц продукции (`amount` из таблицы `sales` или `revenue`).  \n",
    "При каждом вызове функция должна обращаться к таблице `revenue` или `sales` из **Задания 2**, выбирая необходимые данные.  \n",
    "\n",
    "Запишите коэффициенты, возвращаемые функцией при начальных аргументах: `lin_reg(product='Q', date_start='2019-01-01', date_end='2019-03-31')` в `res3.txt` через пробел.\n"
   ]
  },
  {
   "cell_type": "code",
   "execution_count": 9,
   "metadata": {},
   "outputs": [],
   "source": [
    "from sklearn.linear_model import LinearRegression"
   ]
  },
  {
   "cell_type": "code",
   "execution_count": 10,
   "metadata": {},
   "outputs": [],
   "source": [
    "def lin_reg(product: str, date_start: str, date_end: str) -> Tuple[np.ndarray, np.ndarray]:\n",
    "    \"\"\"\n",
    "    Connect to DB, request periods and amounts sold,\n",
    "    train Least Squares Regression model y = kx + b and\n",
    "    return k, b coefficients\n",
    "\n",
    "    Args:\n",
    "        product: the product name.\n",
    "        date_start: starting date in `YYYY-MM-DD` format\n",
    "        date_end: ending date in `YYYY-MM-DD` format\n",
    "    Returns:\n",
    "        coefficients k, b of the lm model\n",
    "    \"\"\"\n",
    "    conn = db_connect()\n",
    "    with closing(conn.cursor()) as cur:\n",
    "        # Select amounts and date periods corresponding\n",
    "        # to the product\n",
    "        cur.execute(\n",
    "            \"SELECT julianday(date) - julianday(?),\"\n",
    "            \"amount FROM revenue WHERE date > ? AND \"\n",
    "            \"date < ? AND product = ?;\",\n",
    "            (date_start, date_start, date_end, product,),\n",
    "        )\n",
    "        rows = cur.fetchall()\n",
    "\n",
    "        # Transform query data\n",
    "        days_amounts = list(zip(*rows))\n",
    "        x = np.array([int(day) for day in days_amounts[0]]).reshape(-1, 1)\n",
    "        y = np.array(days_amounts[1]).reshape(-1, 1)\n",
    "\n",
    "        # Train linear model\n",
    "        model = LinearRegression()\n",
    "        model.fit(x, y)\n",
    "        \n",
    "        return model.coef_[0], model.intercept_"
   ]
  },
  {
   "cell_type": "code",
   "execution_count": 11,
   "metadata": {},
   "outputs": [
    {
     "data": {
      "text/plain": [
       "(array([-0.16513156]), array([28.95062696]))"
      ]
     },
     "execution_count": 11,
     "metadata": {},
     "output_type": "execute_result"
    }
   ],
   "source": [
    "lin_reg(product='Q', date_start='2019-01-01', date_end='2019-03-31')"
   ]
  }
 ],
 "metadata": {
  "kernelspec": {
   "display_name": "torch_env",
   "language": "python",
   "name": "torch_env"
  },
  "language_info": {
   "codemirror_mode": {
    "name": "ipython",
    "version": 3
   },
   "file_extension": ".py",
   "mimetype": "text/x-python",
   "name": "python",
   "nbconvert_exporter": "python",
   "pygments_lexer": "ipython3",
   "version": "3.7.0"
  }
 },
 "nbformat": 4,
 "nbformat_minor": 4
}

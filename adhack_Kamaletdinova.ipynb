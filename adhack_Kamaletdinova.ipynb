{
 "cells": [
  {
   "cell_type": "markdown",
   "metadata": {},
   "source": [
    "# JDA Test Task  \n",
    "### Камалетдинова Юлия  \n",
    "--------------------------"
   ]
  },
  {
   "cell_type": "markdown",
   "metadata": {},
   "source": [
    "## Задание 1"
   ]
  },
  {
   "cell_type": "markdown",
   "metadata": {},
   "source": [
    "#### 1. Запрос для получения среднего по актуальным ценам"
   ]
  },
  {
   "cell_type": "markdown",
   "metadata": {},
   "source": [
    "``` sql\n",
    "SELECT avg(a.price)  \n",
    "FROM prices a  \n",
    "INNER JOIN (  \n",
    "    SELECT price, MAX(date_start) date_start  \n",
    "    FROM prices  \n",
    "    GROUP BY product  \n",
    ") b ON a.price = b.price and a.date_start = b.date_start;\n",
    "```"
   ]
  },
  {
   "cell_type": "markdown",
   "metadata": {},
   "source": [
    "#### 2. Стоимости и соответствующие даты для продукта `product`"
   ]
  },
  {
   "cell_type": "code",
   "execution_count": 1,
   "metadata": {},
   "outputs": [],
   "source": [
    "import os\n",
    "import sqlite3"
   ]
  },
  {
   "cell_type": "code",
   "execution_count": 2,
   "metadata": {},
   "outputs": [],
   "source": [
    "DB_FILE = 'DB.db'\n",
    "DEFAULT_PATH = os.path.join(os.getcwd(), DB_FILE)"
   ]
  },
  {
   "cell_type": "code",
   "execution_count": 3,
   "metadata": {},
   "outputs": [],
   "source": [
    "def db_connect(db_path=DEFAULT_PATH):\n",
    "    conn = sqlite3.connect(db_path)\n",
    "    return conn"
   ]
  },
  {
   "cell_type": "code",
   "execution_count": 4,
   "metadata": {},
   "outputs": [],
   "source": [
    "def get_product_data(product: str) -> tuple:\n",
    "    '''\n",
    "    Get price history for the product from `prices` DB table.\n",
    "    \n",
    "    Args:\n",
    "        product: the product name.\n",
    "    Returns:\n",
    "        tuple of dates and prices corresponding to \n",
    "        prod_name ordered by ascending date:\n",
    "        ([date_start1, date_start2, ...], [price1, price2, ...])\n",
    "    '''\n",
    "    \n",
    "    conn = db_connect()\n",
    "    cur = conn.cursor()\n",
    "    cur.execute(\"SELECT date_start, price FROM prices WHERE product = ?\" \n",
    "                \"ORDER BY date_start ASC\", \n",
    "                (product,))\n",
    "    \n",
    "    rows = cur.fetchall()\n",
    "    dates_prices = tuple(map(list, zip(*rows)))\n",
    "    \n",
    "    return dates_prices"
   ]
  },
  {
   "cell_type": "code",
   "execution_count": 5,
   "metadata": {},
   "outputs": [
    {
     "data": {
      "text/plain": [
       "(['1970-01-01',\n",
       "  '2010-01-21',\n",
       "  '2010-08-17',\n",
       "  '2010-11-02',\n",
       "  '2012-08-27',\n",
       "  '2012-12-06',\n",
       "  '2013-01-11',\n",
       "  '2013-05-02',\n",
       "  '2013-05-08',\n",
       "  '2013-11-01',\n",
       "  '2014-08-30',\n",
       "  '2015-12-29',\n",
       "  '2016-05-04',\n",
       "  '2016-08-14',\n",
       "  '2016-09-28',\n",
       "  '2017-04-01'],\n",
       " [297.79,\n",
       "  164.68,\n",
       "  558.58,\n",
       "  127.08,\n",
       "  352.13,\n",
       "  0.35,\n",
       "  100.61,\n",
       "  120.5,\n",
       "  260.19,\n",
       "  1747.84,\n",
       "  59.84,\n",
       "  118.27,\n",
       "  550.62,\n",
       "  339.35,\n",
       "  210.19,\n",
       "  111.23])"
      ]
     },
     "execution_count": 5,
     "metadata": {},
     "output_type": "execute_result"
    }
   ],
   "source": [
    "get_product_data('A')"
   ]
  },
  {
   "cell_type": "markdown",
   "metadata": {},
   "source": [
    "## Задание 2"
   ]
  },
  {
   "cell_type": "markdown",
   "metadata": {},
   "source": [
    "#### 1. Запрос для создания таблицы `revenue`"
   ]
  },
  {
   "cell_type": "markdown",
   "metadata": {},
   "source": [
    "``` sql\n",
    "CREATE TABLE revenue\n",
    "    AS SELECT s.*,\n",
    "            (SELECT p.price\n",
    "             FROM prices p\n",
    "             WHERE p.date_start <= s.date AND p.product = s.product\n",
    "             ORDER BY p.date_start DESC\n",
    "             LIMIT 1\n",
    "            ) * s.amount AS revenue\n",
    "        FROM sales s;\n",
    "```"
   ]
  },
  {
   "cell_type": "markdown",
   "metadata": {},
   "source": [
    "#### 2. Функция для расчета стандартного выборочного отклонения `revenue`"
   ]
  },
  {
   "cell_type": "code",
   "execution_count": 6,
   "metadata": {},
   "outputs": [],
   "source": [
    "import numpy as np"
   ]
  },
  {
   "cell_type": "code",
   "execution_count": 14,
   "metadata": {},
   "outputs": [],
   "source": [
    "def get_ssd(prod_name: str) -> np.array:\n",
    "    '''\n",
    "    Counts sample standard deviation of revenue by product name.\n",
    "    \n",
    "    Args:\n",
    "        prod_name: the product name.\n",
    "    Returns:\n",
    "        sample standard deviation\n",
    "    '''\n",
    "    conn = db_connect() \n",
    "    cur = conn.cursor()\n",
    "    cur.execute(\"SELECT revenue FROM revenue WHERE product = ?;\",\n",
    "               (prod_name,))\n",
    "    \n",
    "    rows = cur.fetchall()\n",
    "    rev = list(zip(*rows))[0]\n",
    "    \n",
    "    ssd = np.std(rev, ddof=1)\n",
    "    \n",
    "    return ssd"
   ]
  },
  {
   "cell_type": "code",
   "execution_count": 15,
   "metadata": {},
   "outputs": [
    {
     "name": "stdout",
     "output_type": "stream",
     "text": [
      "33465.93838814805\n"
     ]
    }
   ],
   "source": [
    "print(get_ssd('B'))"
   ]
  },
  {
   "cell_type": "markdown",
   "metadata": {},
   "source": [
    "## Задание 3"
   ]
  },
  {
   "cell_type": "code",
   "execution_count": 9,
   "metadata": {},
   "outputs": [],
   "source": [
    "from sklearn.linear_model import LinearRegression"
   ]
  },
  {
   "cell_type": "code",
   "execution_count": 12,
   "metadata": {},
   "outputs": [],
   "source": [
    "def lin_reg(product: str, date_start: str, date_end: str) -> tuple:\n",
    "    \"\"\"\n",
    "    Trains Least Squares Regression model y = kx + b.\n",
    "    \n",
    "    Args:\n",
    "        product: the product name.\n",
    "        date_start: starting date in `YYYY-MM-DD` format\n",
    "        date_end: ending date in `YYYY-MM-DD` format\n",
    "    Returns:\n",
    "        coefficients k, b of the lm model \n",
    "    \"\"\"\n",
    "    conn = db_connect()\n",
    "    cur = conn.cursor()\n",
    "    cur.execute(\"SELECT julianday(date) - julianday(?),\"\n",
    "                \"amount FROM revenue WHERE date > ? AND \"\n",
    "                \"date < ? AND product = ?;\",\n",
    "               (date_start, date_start, date_end, product,))\n",
    "    rows = cur.fetchall()\n",
    "    \n",
    "    # Transform query data\n",
    "    days_amounts = list(zip(*rows))\n",
    "    x = np.array([int(day) for day in days_amounts[0]]).reshape(-1, 1)\n",
    "    y = np.array(days_amounts[1]).reshape(-1, 1)\n",
    "    \n",
    "    # Train linear model\n",
    "    model = LinearRegression()\n",
    "    model.fit(x, y)\n",
    "    \n",
    "    return model.coef_, model.intercept_"
   ]
  },
  {
   "cell_type": "code",
   "execution_count": 13,
   "metadata": {},
   "outputs": [
    {
     "data": {
      "text/plain": [
       "(array([[-0.16513156]]), array([28.95062696]))"
      ]
     },
     "execution_count": 13,
     "metadata": {},
     "output_type": "execute_result"
    }
   ],
   "source": [
    "lin_reg(product='Q', date_start='2019-01-01', date_end='2019-03-31')"
   ]
  },
  {
   "cell_type": "code",
   "execution_count": null,
   "metadata": {},
   "outputs": [],
   "source": []
  }
 ],
 "metadata": {
  "kernelspec": {
   "display_name": "torch_env",
   "language": "python",
   "name": "torch_env"
  },
  "language_info": {
   "codemirror_mode": {
    "name": "ipython",
    "version": 3
   },
   "file_extension": ".py",
   "mimetype": "text/x-python",
   "name": "python",
   "nbconvert_exporter": "python",
   "pygments_lexer": "ipython3",
   "version": "3.7.0"
  }
 },
 "nbformat": 4,
 "nbformat_minor": 4
}
